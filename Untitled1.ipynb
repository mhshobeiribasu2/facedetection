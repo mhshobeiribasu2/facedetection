{
 "cells": [
  {
   "cell_type": "code",
   "execution_count": 2,
   "id": "5fccaa61-53ec-4abf-81df-a134361f691d",
   "metadata": {},
   "outputs": [],
   "source": [
    "# plot photo with detected faces using opencv cascade classifier\n",
    "from cv2 import imread\n",
    "from cv2 import imshow\n",
    "from cv2 import waitKey\n",
    "from cv2 import destroyAllWindows\n",
    "from cv2 import CascadeClassifier\n",
    "from cv2 import rectangle\n",
    "# load the photograph\n",
    "pixels = imread('test1.jpg')\n",
    "# load the pre-trained model\n",
    "classifier = CascadeClassifier('haarcascade_frontalface_default.xml')\n",
    "# perform face detection\n",
    "bboxes = classifier.detectMultiScale(pixels)\n",
    "# print bounding box for each detected face\n",
    "for box in bboxes:\n",
    "\t# extract\n",
    "\tx, y, width, height = box\n",
    "\tx2, y2 = x + width, y + height\n",
    "\t# draw a rectangle over the pixels\n",
    "\trectangle(pixels, (x, y), (x2, y2), (0,0,255), 1)\n",
    "# show the image\n",
    "imshow('face detection', pixels)\n",
    "# keep the window open until we press a key\n",
    "waitKey(0)\n",
    "# close the window\n",
    "destroyAllWindows()"
   ]
  },
  {
   "cell_type": "code",
   "execution_count": null,
   "id": "eb3fd372-30b5-4ba7-b60d-ab2c97c7761c",
   "metadata": {},
   "outputs": [],
   "source": []
  }
 ],
 "metadata": {
  "kernelspec": {
   "display_name": "Python 3 (ipykernel)",
   "language": "python",
   "name": "python3"
  },
  "language_info": {
   "codemirror_mode": {
    "name": "ipython",
    "version": 3
   },
   "file_extension": ".py",
   "mimetype": "text/x-python",
   "name": "python",
   "nbconvert_exporter": "python",
   "pygments_lexer": "ipython3",
   "version": "3.9.7"
  }
 },
 "nbformat": 4,
 "nbformat_minor": 5
}
